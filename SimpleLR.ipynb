{
 "cells": [
  {
   "cell_type": "markdown",
   "metadata": {
    "collapsed": true
   },
   "source": [
    "## Linear Regression with two features"
   ]
  },
  {
   "cell_type": "code",
   "execution_count": 9,
   "metadata": {
    "collapsed": true
   },
   "outputs": [],
   "source": [
    "import pandas as pd\n",
    "import numpy as np"
   ]
  },
  {
   "cell_type": "code",
   "execution_count": 2,
   "metadata": {
    "collapsed": true
   },
   "outputs": [],
   "source": [
    "dataset = pd.read_csv('Salary_Data.csv')"
   ]
  },
  {
   "cell_type": "code",
   "execution_count": 3,
   "metadata": {},
   "outputs": [
    {
     "name": "stdout",
     "output_type": "stream",
     "text": [
      "(30, 1)\n",
      "(30,)\n"
     ]
    }
   ],
   "source": [
    "X = dataset.iloc[:, 0].values.reshape(-1,1)\n",
    "Y = dataset.iloc[:, 1].values\n",
    "print(X.shape)\n",
    "print(Y.shape)"
   ]
  },
  {
   "cell_type": "code",
   "execution_count": 4,
   "metadata": {
    "collapsed": true
   },
   "outputs": [],
   "source": [
    "# Train test split\n",
    "from sklearn import model_selection\n",
    "X_train, X_test, Y_train,Y_test = model_selection.train_test_split(X,Y,random_state = 0)"
   ]
  },
  {
   "cell_type": "code",
   "execution_count": 5,
   "metadata": {
    "collapsed": true
   },
   "outputs": [],
   "source": [
    "def fit(X_train,Y_train):\n",
    "    num = (X_train*Y_train).mean() - (X_train.mean())*(Y_train.mean())\n",
    "    den = (X_train**2).mean() - X_train.mean()**2\n",
    "    m = num/den\n",
    "    c = Y_train.mean() - m*(X_train.mean())\n",
    "    return m,c"
   ]
  },
  {
   "cell_type": "code",
   "execution_count": 6,
   "metadata": {
    "collapsed": true
   },
   "outputs": [],
   "source": [
    "def predict(x,m,c):\n",
    "    y_pred = m*x + c\n",
    "    return y_pred\n",
    "\n",
    "def score(y_truth,y_pred):\n",
    "    u = ((y_truth - y_pred)**2).sum()\n",
    "    v = ((y_truth - y_truth.mean())**2).sum()\n",
    "    x = u/v\n",
    "    return 1 - x\n",
    "\n",
    "def cost(x,y,m,c):\n",
    "    return ((y - m*x - c)**2).mean()\n"
   ]
  },
  {
   "cell_type": "code",
   "execution_count": 7,
   "metadata": {},
   "outputs": [
    {
     "name": "stdout",
     "output_type": "stream",
     "text": [
      "Coefficient: 9.29160165503e-12 Intercept: 72947.2727273\n",
      "-21.0\n"
     ]
    }
   ],
   "source": [
    "m,c = fit(X_train,Y_train)\n",
    "print(\"Coefficient:\",m,\"Intercept:\",c)\n",
    "y_pred = predict(X_train,m,c)\n",
    "print(score(Y_train,y_pred))"
   ]
  },
  {
   "cell_type": "code",
   "execution_count": 8,
   "metadata": {},
   "outputs": [
    {
     "name": "stdout",
     "output_type": "stream",
     "text": [
      "M: 9379.71049195 C: 26986.6913167\n",
      "-942939341.785\n"
     ]
    }
   ],
   "source": [
    "from sklearn.linear_model import LinearRegression\n",
    "alg1 = LinearRegression()\n",
    "alg1.fit(X_train,Y_train)\n",
    "print(\"M:\",alg1.coef_[0],\"C:\",alg1.intercept_)\n",
    "pre = alg1.predict(X_train)\n",
    "print(alg1.score(Y_train.reshape(-1,1),pre.reshape(-1,1)))"
   ]
  }
 ],
 "metadata": {
  "kernelspec": {
   "display_name": "Python 3",
   "language": "python",
   "name": "python3"
  },
  "language_info": {
   "codemirror_mode": {
    "name": "ipython",
    "version": 3
   },
   "file_extension": ".py",
   "mimetype": "text/x-python",
   "name": "python",
   "nbconvert_exporter": "python",
   "pygments_lexer": "ipython3",
   "version": "3.6.3"
  }
 },
 "nbformat": 4,
 "nbformat_minor": 2
}
