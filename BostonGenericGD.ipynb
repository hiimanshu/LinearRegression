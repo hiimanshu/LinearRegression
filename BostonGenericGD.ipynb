{
 "cells": [
  {
   "cell_type": "markdown",
   "metadata": {
    "collapsed": true
   },
   "source": [
    "## Generic Gradient Descent for Boston Dataset"
   ]
  },
  {
   "cell_type": "code",
   "execution_count": 1,
   "metadata": {
    "collapsed": true
   },
   "outputs": [],
   "source": [
    "import numpy as np"
   ]
  },
  {
   "cell_type": "code",
   "execution_count": 2,
   "metadata": {},
   "outputs": [
    {
     "name": "stdout",
     "output_type": "stream",
     "text": [
      "Shape of data: (379, 14)\n"
     ]
    }
   ],
   "source": [
    "data = np.genfromtxt(\"train_boston.csv\",delimiter=\",\")\n",
    "print(\"Shape of data:\",data.shape)"
   ]
  },
  {
   "cell_type": "code",
   "execution_count": 3,
   "metadata": {},
   "outputs": [
    {
     "name": "stdout",
     "output_type": "stream",
     "text": [
      "Shape of x before adding the column: (379, 13)\n",
      "Shape of x after adding the column: (379, 14)\n",
      "Shape of y: (379,)\n"
     ]
    }
   ],
   "source": [
    "x = data[:,:-1]\n",
    "print(\"Shape of x before adding the column:\",x.shape)\n",
    "#print(\"Number of dimension of x:\",x.ndim)\n",
    "z = [[1] for i in range(len(x))]\n",
    "x = np.append(x,z,axis = 1)\n",
    "print(\"Shape of x after adding the column:\",x.shape)\n",
    "y = data[:,-1]\n",
    "print(\"Shape of y:\",y.shape)"
   ]
  },
  {
   "cell_type": "code",
   "execution_count": 4,
   "metadata": {
    "collapsed": true
   },
   "outputs": [],
   "source": [
    "from sklearn import preprocessing\n",
    "#x = preprocessing.scale(x) "
   ]
  },
  {
   "cell_type": "code",
   "execution_count": 5,
   "metadata": {
    "collapsed": true
   },
   "outputs": [],
   "source": [
    "min_max_scaler_object = preprocessing.MinMaxScaler()"
   ]
  },
  {
   "cell_type": "code",
   "execution_count": 6,
   "metadata": {},
   "outputs": [
    {
     "data": {
      "text/plain": [
       "array([[  9.52120195e-04,   0.00000000e+00,   6.37037026e-02, ...,\n",
       "          9.92950962e-01,   8.76595744e-02,   0.00000000e+00],\n",
       "       [  9.98090789e-04,   0.00000000e+00,   4.47777778e-01, ...,\n",
       "          9.65337999e-01,   2.04539008e-01,   0.00000000e+00],\n",
       "       [  5.24054883e-02,   0.00000000e+00,   6.42962963e-01, ...,\n",
       "          2.01835810e-02,   4.90212767e-01,   0.00000000e+00],\n",
       "       ..., \n",
       "       [  9.07610103e-04,   0.00000000e+00,   4.47777778e-01, ...,\n",
       "          9.74795883e-01,   2.42269504e-01,   0.00000000e+00],\n",
       "       [  6.84725648e-04,   0.00000000e+00,   9.25925916e-02, ...,\n",
       "          9.45002283e-01,   1.59148935e-01,   0.00000000e+00],\n",
       "       [  7.34230504e-02,   0.00000000e+00,   6.42962963e-01, ...,\n",
       "          9.87702216e-01,   3.48936163e-02,   0.00000000e+00]])"
      ]
     },
     "execution_count": 6,
     "metadata": {},
     "output_type": "execute_result"
    }
   ],
   "source": [
    "x = min_max_scaler_object.fit_transform(x)\n",
    "x"
   ]
  },
  {
   "cell_type": "code",
   "execution_count": 7,
   "metadata": {
    "collapsed": true
   },
   "outputs": [],
   "source": [
    "def run():\n",
    "    num_i = 300\n",
    "    lr = 0.14\n",
    "    m = genericGD(x,y,lr,num_i)\n",
    "    #np.savetxt(\"foo.csv\",m,fmt=\"%.5f\")\n",
    "    return m"
   ]
  },
  {
   "cell_type": "code",
   "execution_count": 8,
   "metadata": {
    "collapsed": true
   },
   "outputs": [],
   "source": [
    "def genericGD(x,y,lr,num_i):\n",
    "    m = [0 for i in range(14)]\n",
    "    for i in range(num_i):\n",
    "        m = stepGradient(x,y,lr,m)\n",
    "        print(i, \" Cost:\", cost(x,y,m))\n",
    "    return m"
   ]
  },
  {
   "cell_type": "code",
   "execution_count": 9,
   "metadata": {
    "collapsed": true
   },
   "outputs": [],
   "source": [
    "def stepGradient(x,y,lr,m):\n",
    "    m_slope = [0 for i in range(len(m))]\n",
    "    new_m = [0 for i in range(len(m))]\n",
    "    M = len(x)\n",
    "    for i in range(M):\n",
    "        temp = y[i]\n",
    "        for j in range(len(m_slope)):\n",
    "            temp = temp - m[j]*x[i][j]\n",
    "        for j in range(len(m_slope)):\n",
    "            m_slope[j] += ((-2)/M)*(temp)*(x[i][j])\n",
    "    for j in range(len(m)):\n",
    "        new_m[j] = m[j] - lr*m_slope[j]\n",
    "    return new_m"
   ]
  },
  {
   "cell_type": "code",
   "execution_count": 10,
   "metadata": {
    "collapsed": true
   },
   "outputs": [],
   "source": [
    "def cost(x,y,m):\n",
    "    total_cost = 0\n",
    "    M = len(x)\n",
    "    for i in range(M):\n",
    "        temp = y[i]\n",
    "        for j in range(len(m)):\n",
    "            temp -= m[j]*x[i][j]\n",
    "        total_cost += (1/M)*(temp**2)\n",
    "    return total_cost"
   ]
  },
  {
   "cell_type": "code",
   "execution_count": 11,
   "metadata": {},
   "outputs": [
    {
     "name": "stdout",
     "output_type": "stream",
     "text": [
      "0  Cost: 155.123616307\n",
      "1  Cost: 125.805128835\n",
      "2  Cost: 114.582180225\n",
      "3  Cost: 105.715742243\n",
      "4  Cost: 98.3062640134\n",
      "5  Cost: 92.0809147763\n",
      "6  Cost: 86.8331077275\n",
      "7  Cost: 82.3933500955\n",
      "8  Cost: 78.6220172206\n",
      "9  Cost: 75.4040537859\n",
      "10  Cost: 72.6446361438\n",
      "11  Cost: 70.2656016989\n",
      "12  Cost: 68.2025089209\n",
      "13  Cost: 66.4022165617\n",
      "14  Cost: 64.8208903692\n",
      "15  Cost: 63.4223617892\n",
      "16  Cost: 62.1767764869\n",
      "17  Cost: 61.059481496\n",
      "18  Cost: 60.0501088507\n",
      "19  Cost: 59.1318209974\n",
      "20  Cost: 58.2906894116\n",
      "21  Cost: 57.5151828955\n",
      "22  Cost: 56.7957461862\n",
      "23  Cost: 56.1244529222\n",
      "24  Cost: 55.4947198405\n",
      "25  Cost: 54.9010713878\n",
      "26  Cost: 54.3389458453\n",
      "27  Cost: 53.8045356367\n",
      "28  Cost: 53.2946557824\n",
      "29  Cost: 52.8066355314\n",
      "30  Cost: 52.3382290796\n",
      "31  Cost: 51.8875420037\n",
      "32  Cost: 51.4529706376\n",
      "33  Cost: 51.0331521076\n",
      "34  Cost: 50.6269231445\n",
      "35  Cost: 50.2332861243\n",
      "36  Cost: 49.8513810628\n",
      "37  Cost: 49.4804625137\n",
      "38  Cost: 49.1198805059\n",
      "39  Cost: 48.7690648077\n",
      "40  Cost: 48.4275119316\n",
      "41  Cost: 48.0947743981\n",
      "42  Cost: 47.7704518591\n",
      "43  Cost: 47.4541837551\n",
      "44  Cost: 47.1456432363\n",
      "45  Cost: 46.8445321249\n",
      "46  Cost: 46.5505767362\n",
      "47  Cost: 46.2635244088\n",
      "48  Cost: 45.9831406178\n",
      "49  Cost: 45.709206571\n",
      "50  Cost: 45.4415172024\n",
      "51  Cost: 45.179879495\n",
      "52  Cost: 44.9241110741\n",
      "53  Cost: 44.674039026\n",
      "54  Cost: 44.4294989014\n",
      "55  Cost: 44.1903338732\n",
      "56  Cost: 43.9563940212\n",
      "57  Cost: 43.7275357223\n",
      "58  Cost: 43.5036211288\n",
      "59  Cost: 43.2845177193\n",
      "60  Cost: 43.0700979102\n",
      "61  Cost: 42.8602387178\n",
      "62  Cost: 42.6548214633\n",
      "63  Cost: 42.4537315126\n",
      "64  Cost: 42.2568580461\n",
      "65  Cost: 42.0640938534\n",
      "66  Cost: 41.8753351497\n",
      "67  Cost: 41.6904814099\n",
      "68  Cost: 41.5094352173\n",
      "69  Cost: 41.332102127\n",
      "70  Cost: 41.1583905389\n",
      "71  Cost: 40.9882115811\n",
      "72  Cost: 40.8214790021\n",
      "73  Cost: 40.65810907\n",
      "74  Cost: 40.4980204775\n",
      "75  Cost: 40.3411342539\n",
      "76  Cost: 40.1873736814\n",
      "77  Cost: 40.0366642159\n",
      "78  Cost: 39.888933412\n",
      "79  Cost: 39.7441108522\n",
      "80  Cost: 39.6021280784\n",
      "81  Cost: 39.4629185276\n",
      "82  Cost: 39.3264174697\n",
      "83  Cost: 39.1925619484\n",
      "84  Cost: 39.0612907239\n",
      "85  Cost: 38.932544219\n",
      "86  Cost: 38.8062644658\n",
      "87  Cost: 38.682395056\n",
      "88  Cost: 38.5608810919\n",
      "89  Cost: 38.4416691399\n",
      "90  Cost: 38.3247071853\n",
      "91  Cost: 38.2099445889\n",
      "92  Cost: 38.0973320451\n",
      "93  Cost: 37.9868215416\n",
      "94  Cost: 37.8783663202\n",
      "95  Cost: 37.7719208393\n",
      "96  Cost: 37.6674407373\n",
      "97  Cost: 37.5648827978\n",
      "98  Cost: 37.4642049153\n",
      "99  Cost: 37.3653660626\n",
      "100  Cost: 37.2683262588\n",
      "101  Cost: 37.173046539\n",
      "102  Cost: 37.0794889242\n",
      "103  Cost: 36.9876163932\n",
      "104  Cost: 36.8973928543\n",
      "105  Cost: 36.8087831184\n",
      "106  Cost: 36.7217528737\n",
      "107  Cost: 36.6362686599\n",
      "108  Cost: 36.5522978441\n",
      "109  Cost: 36.4698085974\n",
      "110  Cost: 36.3887698717\n",
      "111  Cost: 36.3091513783\n",
      "112  Cost: 36.2309235658\n",
      "113  Cost: 36.1540575998\n",
      "114  Cost: 36.078525343\n",
      "115  Cost: 36.0042993355\n",
      "116  Cost: 35.931352776\n",
      "117  Cost: 35.8596595039\n",
      "118  Cost: 35.7891939814\n",
      "119  Cost: 35.7199312765\n",
      "120  Cost: 35.6518470464\n",
      "121  Cost: 35.5849175213\n",
      "122  Cost: 35.5191194894\n",
      "123  Cost: 35.4544302812\n",
      "124  Cost: 35.3908277549\n",
      "125  Cost: 35.3282902829\n",
      "126  Cost: 35.2667967372\n",
      "127  Cost: 35.2063264769\n",
      "128  Cost: 35.1468593343\n",
      "129  Cost: 35.0883756035\n",
      "130  Cost: 35.0308560273\n",
      "131  Cost: 34.9742817859\n",
      "132  Cost: 34.9186344852\n",
      "133  Cost: 34.8638961462\n",
      "134  Cost: 34.8100491934\n",
      "135  Cost: 34.7570764451\n",
      "136  Cost: 34.7049611029\n",
      "137  Cost: 34.6536867419\n",
      "138  Cost: 34.6032373011\n",
      "139  Cost: 34.5535970741\n",
      "140  Cost: 34.5047507005\n",
      "141  Cost: 34.4566831564\n",
      "142  Cost: 34.4093797465\n",
      "143  Cost: 34.3628260956\n",
      "144  Cost: 34.3170081407\n",
      "145  Cost: 34.271912123\n",
      "146  Cost: 34.2275245807\n",
      "147  Cost: 34.1838323411\n",
      "148  Cost: 34.1408225141\n",
      "149  Cost: 34.0984824847\n",
      "150  Cost: 34.0567999065\n",
      "151  Cost: 34.0157626953\n",
      "152  Cost: 33.9753590223\n",
      "153  Cost: 33.9355773083\n",
      "154  Cost: 33.8964062174\n",
      "155  Cost: 33.8578346514\n",
      "156  Cost: 33.8198517438\n",
      "157  Cost: 33.7824468544\n",
      "158  Cost: 33.7456095641\n",
      "159  Cost: 33.7093296692\n",
      "160  Cost: 33.6735971767\n",
      "161  Cost: 33.6384022992\n",
      "162  Cost: 33.60373545\n",
      "163  Cost: 33.5695872385\n",
      "164  Cost: 33.5359484655\n",
      "165  Cost: 33.5028101189\n",
      "166  Cost: 33.4701633691\n",
      "167  Cost: 33.4379995653\n",
      "168  Cost: 33.4063102307\n",
      "169  Cost: 33.375087059\n",
      "170  Cost: 33.3443219104\n",
      "171  Cost: 33.3140068075\n",
      "172  Cost: 33.2841339322\n",
      "173  Cost: 33.2546956216\n",
      "174  Cost: 33.2256843643\n",
      "175  Cost: 33.1970927979\n",
      "176  Cost: 33.1689137047\n",
      "177  Cost: 33.141140009\n",
      "178  Cost: 33.1137647735\n",
      "179  Cost: 33.086781197\n",
      "180  Cost: 33.0601826103\n",
      "181  Cost: 33.0339624743\n",
      "182  Cost: 33.0081143766\n",
      "183  Cost: 32.9826320286\n",
      "184  Cost: 32.9575092632\n",
      "185  Cost: 32.9327400319\n",
      "186  Cost: 32.9083184024\n",
      "187  Cost: 32.8842385557\n",
      "188  Cost: 32.860494784\n",
      "189  Cost: 32.8370814883\n",
      "190  Cost: 32.8139931759\n",
      "191  Cost: 32.791224458\n",
      "192  Cost: 32.7687700481\n",
      "193  Cost: 32.7466247588\n",
      "194  Cost: 32.7247835007\n",
      "195  Cost: 32.7032412798\n",
      "196  Cost: 32.6819931955\n",
      "197  Cost: 32.6610344387\n",
      "198  Cost: 32.64036029\n",
      "199  Cost: 32.6199661176\n",
      "200  Cost: 32.5998473756\n",
      "201  Cost: 32.5799996023\n",
      "202  Cost: 32.5604184181\n",
      "203  Cost: 32.5410995242\n",
      "204  Cost: 32.5220387007\n",
      "205  Cost: 32.5032318051\n",
      "206  Cost: 32.4846747706\n",
      "207  Cost: 32.4663636045\n",
      "208  Cost: 32.448294387\n",
      "209  Cost: 32.4304632692\n",
      "210  Cost: 32.4128664722\n",
      "211  Cost: 32.3955002852\n",
      "212  Cost: 32.3783610645\n",
      "213  Cost: 32.3614452319\n",
      "214  Cost: 32.3447492735\n",
      "215  Cost: 32.3282697384\n",
      "216  Cost: 32.3120032374\n",
      "217  Cost: 32.2959464417\n",
      "218  Cost: 32.2800960819\n",
      "219  Cost: 32.2644489465\n",
      "220  Cost: 32.2490018812\n",
      "221  Cost: 32.2337517873\n",
      "222  Cost: 32.218695621\n",
      "223  Cost: 32.2038303918\n",
      "224  Cost: 32.1891531621\n",
      "225  Cost: 32.1746610457\n",
      "226  Cost: 32.160351207\n",
      "227  Cost: 32.1462208598\n",
      "228  Cost: 32.1322672667\n",
      "229  Cost: 32.1184877377\n",
      "230  Cost: 32.1048796298\n",
      "231  Cost: 32.0914403455\n",
      "232  Cost: 32.0781673324\n",
      "233  Cost: 32.0650580822\n",
      "234  Cost: 32.0521101296\n",
      "235  Cost: 32.0393210519\n",
      "236  Cost: 32.0266884679\n",
      "237  Cost: 32.0142100371\n",
      "238  Cost: 32.0018834591\n",
      "239  Cost: 31.9897064727\n",
      "240  Cost: 31.9776768551\n",
      "241  Cost: 31.9657924215\n",
      "242  Cost: 31.954051024\n",
      "243  Cost: 31.942450551\n",
      "244  Cost: 31.9309889266\n",
      "245  Cost: 31.9196641099\n",
      "246  Cost: 31.9084740945\n",
      "247  Cost: 31.8974169075\n",
      "248  Cost: 31.886490609\n",
      "249  Cost: 31.8756932919\n",
      "250  Cost: 31.8650230806\n",
      "251  Cost: 31.8544781309\n",
      "252  Cost: 31.8440566293\n",
      "253  Cost: 31.8337567924\n",
      "254  Cost: 31.8235768664\n",
      "255  Cost: 31.8135151263\n",
      "256  Cost: 31.8035698758\n",
      "257  Cost: 31.7937394465\n",
      "258  Cost: 31.7840221975\n",
      "259  Cost: 31.7744165146\n",
      "260  Cost: 31.7649208104\n",
      "261  Cost: 31.7555335233\n",
      "262  Cost: 31.7462531171\n",
      "263  Cost: 31.7370780807\n",
      "264  Cost: 31.7280069277\n",
      "265  Cost: 31.7190381958\n",
      "266  Cost: 31.7101704462\n",
      "267  Cost: 31.7014022637\n",
      "268  Cost: 31.6927322556\n",
      "269  Cost: 31.684159052\n",
      "270  Cost: 31.6756813048\n",
      "271  Cost: 31.6672976877\n",
      "272  Cost: 31.6590068955\n",
      "273  Cost: 31.6508076441\n",
      "274  Cost: 31.6426986697\n",
      "275  Cost: 31.6346787287\n",
      "276  Cost: 31.6267465975\n",
      "277  Cost: 31.6189010716\n",
      "278  Cost: 31.611140966\n",
      "279  Cost: 31.6034651141\n",
      "280  Cost: 31.5958723678\n",
      "281  Cost: 31.5883615974\n",
      "282  Cost: 31.5809316907\n",
      "283  Cost: 31.5735815529\n",
      "284  Cost: 31.5663101068\n",
      "285  Cost: 31.5591162916\n",
      "286  Cost: 31.5519990635\n",
      "287  Cost: 31.5449573945\n",
      "288  Cost: 31.5379902731\n",
      "289  Cost: 31.5310967033\n",
      "290  Cost: 31.5242757046\n",
      "291  Cost: 31.5175263116\n",
      "292  Cost: 31.5108475739\n",
      "293  Cost: 31.5042385559\n",
      "294  Cost: 31.4976983362\n",
      "295  Cost: 31.4912260078\n",
      "296  Cost: 31.4848206773\n",
      "297  Cost: 31.4784814654\n",
      "298  Cost: 31.472207506\n",
      "299  Cost: 31.4659979464\n"
     ]
    }
   ],
   "source": [
    "m = run()"
   ]
  },
  {
   "cell_type": "code",
   "execution_count": 12,
   "metadata": {},
   "outputs": [
    {
     "name": "stdout",
     "output_type": "stream",
     "text": [
      "(127, 13)\n"
     ]
    },
    {
     "data": {
      "text/plain": [
       "(127, 14)"
      ]
     },
     "execution_count": 12,
     "metadata": {},
     "output_type": "execute_result"
    }
   ],
   "source": [
    "x_test = np.genfromtxt(\"test_boston.csv\",delimiter=\",\")\n",
    "print(x_test.shape)\n",
    "z = [[1] for i in range(len(x_test))]\n",
    "x_test = np.append(x_test,z,axis = 1)\n",
    "x_test.shape"
   ]
  },
  {
   "cell_type": "code",
   "execution_count": 13,
   "metadata": {
    "collapsed": true
   },
   "outputs": [],
   "source": [
    "#from sklearn import preprocessing\n",
    "#x_test = preprocessing.scale(x_test) "
   ]
  },
  {
   "cell_type": "code",
   "execution_count": 14,
   "metadata": {
    "collapsed": true
   },
   "outputs": [],
   "source": [
    "x_test = min_max_scaler_object.fit_transform(x_test)"
   ]
  },
  {
   "cell_type": "code",
   "execution_count": 15,
   "metadata": {
    "collapsed": true
   },
   "outputs": [],
   "source": [
    "y_pred = [0 for i in range(len(x_test))]\n",
    "for i in range(len(x_test)):\n",
    "    for j in range(len(m)):\n",
    "        y_pred[i] += m[j]*x_test[i][j]\n",
    "np.savetxt(\"an.csv\",y_pred,fmt=\"%.5f\")"
   ]
  }
 ],
 "metadata": {
  "kernelspec": {
   "display_name": "Python 3",
   "language": "python",
   "name": "python3"
  },
  "language_info": {
   "codemirror_mode": {
    "name": "ipython",
    "version": 3
   },
   "file_extension": ".py",
   "mimetype": "text/x-python",
   "name": "python",
   "nbconvert_exporter": "python",
   "pygments_lexer": "ipython3",
   "version": "3.6.3"
  }
 },
 "nbformat": 4,
 "nbformat_minor": 2
}
